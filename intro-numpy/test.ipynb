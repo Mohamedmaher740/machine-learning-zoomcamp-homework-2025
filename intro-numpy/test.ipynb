{
 "cells": [
  {
   "cell_type": "markdown",
   "id": "7f81a6c9-0020-4ac1-8f32-24aedddad387",
   "metadata": {},
   "source": [
    "# Creating arrays with Numby"
   ]
  },
  {
   "cell_type": "code",
   "execution_count": 38,
   "id": "8fb7e937-5922-4eb1-ade2-adb8718dbb2a",
   "metadata": {},
   "outputs": [],
   "source": [
    "import numpy as np"
   ]
  },
  {
   "cell_type": "code",
   "execution_count": 3,
   "id": "0b31ef52-3875-48b8-a6ca-670df4ca2c68",
   "metadata": {},
   "outputs": [
    {
     "data": {
      "text/plain": [
       "array([0., 0., 0.])"
      ]
     },
     "execution_count": 3,
     "metadata": {},
     "output_type": "execute_result"
    }
   ],
   "source": [
    "np.zeros(3)\n",
    "# np.ones()\n",
    "# np.array([])\n",
    "# np.full(dim, number) == np.ones(dim)*num"
   ]
  },
  {
   "cell_type": "markdown",
   "id": "252a4362-910f-4ec7-8771-72097dc86bf7",
   "metadata": {},
   "source": [
    "## Indexing and Slicing"
   ]
  },
  {
   "cell_type": "code",
   "execution_count": 39,
   "id": "3c9c3044-d157-43a7-a125-31c0cf17cbd7",
   "metadata": {},
   "outputs": [
    {
     "data": {
      "text/plain": [
       "array([1, 2, 3, 4, 5])"
      ]
     },
     "execution_count": 39,
     "metadata": {},
     "output_type": "execute_result"
    }
   ],
   "source": [
    "my_list = [1,2,3,4,5]\n",
    "my_array = np.array(my_list)\n",
    "my_array"
   ]
  },
  {
   "cell_type": "code",
   "execution_count": 42,
   "id": "e5b4aa72-3d9f-420b-98e7-6a6684c2b56e",
   "metadata": {},
   "outputs": [
    {
     "name": "stdout",
     "output_type": "stream",
     "text": [
      "4\n",
      "5\n"
     ]
    },
    {
     "data": {
      "text/plain": [
       "array([1, 2, 3, 4])"
      ]
     },
     "execution_count": 42,
     "metadata": {},
     "output_type": "execute_result"
    }
   ],
   "source": [
    "my_list = [1,2,3,4,5]\n",
    "my_array = np.array(my_list)\n",
    "# converting list to array\n",
    "last_element = my_array[-1]\n",
    "print(my_array[-2])\n",
    "print(last_element)\n",
    "sub_array = my_array[0:4]\n",
    "sub_array"
   ]
  },
  {
   "cell_type": "code",
   "execution_count": 15,
   "id": "e98a53bc-29c0-44cd-842f-6ea4729978d4",
   "metadata": {},
   "outputs": [
    {
     "name": "stdout",
     "output_type": "stream",
     "text": [
      "The sum of first and last element in my array = 6\n",
      "The sum of first and last element in my array = 15\n"
     ]
    }
   ],
   "source": [
    "my_array1 = np.array([1,2,3,4,5])\n",
    "first_element = my_array1[0]\n",
    "last_element = my_array1[-1]\n",
    "sum_first_last = first_element + last_element\n",
    "print(f\"The sum of first and last element in my array = {sum_first_last}\")\n",
    "my_array1\n",
    "my_array[0] = 10\n",
    "new_first_element = my_array[0]\n",
    "sm = new_first_element + last_element\n",
    "print(f\"The sum of first and last element in my array = {sm}\")"
   ]
  },
  {
   "cell_type": "markdown",
   "id": "3b5dfe82-3245-455e-b3ac-00e5563051b5",
   "metadata": {
    "jp-MarkdownHeadingCollapsed": true
   },
   "source": [
    "## Arrays built-in functions"
   ]
  },
  {
   "cell_type": "code",
   "execution_count": 21,
   "id": "a34a8ac1-5e02-4797-b8e1-9f8aae02c106",
   "metadata": {},
   "outputs": [
    {
     "data": {
      "text/plain": [
       "array([0, 1, 2, 3, 4])"
      ]
     },
     "execution_count": 21,
     "metadata": {},
     "output_type": "execute_result"
    }
   ],
   "source": [
    "np.arange(5)\n",
    "# result : array([0,1,2,3,4])\n",
    "# How does this result? => loop with 5 iterations starting from 0 with step 1"
   ]
  },
  {
   "cell_type": "code",
   "execution_count": 22,
   "id": "3b275a07-b707-4b98-abfb-0001ec13abde",
   "metadata": {},
   "outputs": [
    {
     "data": {
      "text/plain": [
       "array([2, 5, 8])"
      ]
     },
     "execution_count": 22,
     "metadata": {},
     "output_type": "execute_result"
    }
   ],
   "source": [
    "np.arange(2,10,3)\n",
    "# result : array([2,5,8])\n",
    "# process : loop with limit condition iterations (next < 10) start from 2 with step 3"
   ]
  },
  {
   "cell_type": "code",
   "execution_count": 23,
   "id": "8b005dd3-7586-455f-9ab0-4a6487b9d7c5",
   "metadata": {},
   "outputs": [
    {
     "data": {
      "text/plain": [
       "array([ 0.,  1.,  2.,  3.,  4.,  5.,  6.,  7.,  8.,  9., 10.])"
      ]
     },
     "execution_count": 23,
     "metadata": {},
     "output_type": "execute_result"
    }
   ],
   "source": [
    "np.linspace(0,10,11)\n",
    "# result : array([0. ,1. ,2. ,3. ,4. ,5. ,6. ,7. ,8. ,9. ,10.]) -- including the stop value 10\n",
    "# process : loop with condition (next <= 10) start from 0 -- next = start + (start+stop/n_elements-1)\n"
   ]
  },
  {
   "cell_type": "markdown",
   "id": "8c9eba85-c77d-49a5-98e7-049573e30036",
   "metadata": {
    "jp-MarkdownHeadingCollapsed": true
   },
   "source": [
    "## Two-Dimensional Arrays"
   ]
  },
  {
   "cell_type": "code",
   "execution_count": null,
   "id": "67f97b2c-bcd6-45a4-b798-5df47b4681db",
   "metadata": {},
   "outputs": [],
   "source": []
  },
  {
   "cell_type": "code",
   "execution_count": 24,
   "id": "c54ba59f-06ed-4b9e-b2fd-8eca4db27385",
   "metadata": {},
   "outputs": [
    {
     "data": {
      "text/plain": [
       "array([[1., 1., 1., 1.],\n",
       "       [1., 1., 1., 1.],\n",
       "       [1., 1., 1., 1.]])"
      ]
     },
     "execution_count": 24,
     "metadata": {},
     "output_type": "execute_result"
    }
   ],
   "source": [
    "np.ones((3,4))"
   ]
  },
  {
   "cell_type": "code",
   "execution_count": 25,
   "id": "100fada1-dd10-42a6-b8e5-6402b8863da5",
   "metadata": {},
   "outputs": [
    {
     "data": {
      "text/plain": [
       "array([[ 1,  2,  3,  4],\n",
       "       [ 5,  6,  7,  8],\n",
       "       [ 9, 10, 11, 12]])"
      ]
     },
     "execution_count": 25,
     "metadata": {},
     "output_type": "execute_result"
    }
   ],
   "source": [
    "np.array([[1,2,3,4], [5,6,7,8], [9,10,11,12]])"
   ]
  },
  {
   "cell_type": "markdown",
   "id": "38d62ca1-5cba-4c44-bf39-d811292c6b45",
   "metadata": {},
   "source": [
    "### Accessing and Assignment for 2-Dim"
   ]
  },
  {
   "cell_type": "code",
   "execution_count": 32,
   "id": "1a333c78-7d26-4570-adc6-448e4165fc42",
   "metadata": {},
   "outputs": [
    {
     "name": "stdout",
     "output_type": "stream",
     "text": [
      "[5 6 7 8]\n",
      "[ 2  6 10]\n",
      "12\n",
      "[[ 1  2]\n",
      " [ 5  6]\n",
      " [ 9 10]]\n",
      "[[1 2 3]\n",
      " [5 6 7]]\n"
     ]
    }
   ],
   "source": [
    "matrix1 = np.array([[1,2,3,4], [5,6,7,8], [9,10,11,12]])\n",
    "\n",
    "row_access = matrix1[1]\n",
    "print(row_access)\n",
    "# result : array([5,6,7,8])\n",
    "\n",
    "col_access = matrix1[:,1]\n",
    "print(col_access)\n",
    "# result : array([2,6,10])\n",
    "\n",
    "ele_access = matrix1[2,3]\n",
    "print(ele_access)\n",
    "\n",
    "mul_col_access = matrix1[:,[0,1]]\n",
    "print(mul_col_access)\n",
    "# print all first and second columns\n",
    "\n",
    "n1 = matrix1[[0,1], 0:3]\n",
    "print(n1)\n",
    "# print first 2 rows with only 3 columns"
   ]
  },
  {
   "cell_type": "code",
   "execution_count": 37,
   "id": "c90a028f-1339-4189-af94-1aa97ba9298e",
   "metadata": {},
   "outputs": [
    {
     "data": {
      "text/plain": [
       "array([[ 5,  6,  7,  8],\n",
       "       [ 5,  6,  7,  8],\n",
       "       [ 9, 10, 11,  1]])"
      ]
     },
     "execution_count": 37,
     "metadata": {},
     "output_type": "execute_result"
    }
   ],
   "source": [
    "matrix1 = np.array([[1,2,3,4], [5,6,7,8], [9,10,11,12]])\n",
    "matrix1[0] = [5,6,7,8]\n",
    "matrix1[2,3] = 1\n",
    "matrix1"
   ]
  },
  {
   "cell_type": "markdown",
   "id": "291184bf-49cf-497b-8efa-ba65cbbb6806",
   "metadata": {},
   "source": [
    "## Generate random arrays"
   ]
  },
  {
   "cell_type": "code",
   "execution_count": null,
   "id": "dc201336-42d9-46ec-92b2-74e921977a47",
   "metadata": {},
   "outputs": [],
   "source": []
  }
 ],
 "metadata": {
  "kernelspec": {
   "display_name": "Python 3 (ipykernel)",
   "language": "python",
   "name": "python3"
  },
  "language_info": {
   "codemirror_mode": {
    "name": "ipython",
    "version": 3
   },
   "file_extension": ".py",
   "mimetype": "text/x-python",
   "name": "python",
   "nbconvert_exporter": "python",
   "pygments_lexer": "ipython3",
   "version": "3.12.1"
  }
 },
 "nbformat": 4,
 "nbformat_minor": 5
}
