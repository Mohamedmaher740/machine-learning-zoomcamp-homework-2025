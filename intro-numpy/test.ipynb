{
 "cells": [
  {
   "cell_type": "code",
   "execution_count": 1,
   "id": "be0e92a9-173e-438c-b18e-2d0cd078ac1d",
   "metadata": {},
   "outputs": [],
   "source": [
    "import numpy as np"
   ]
  },
  {
   "cell_type": "code",
   "execution_count": 2,
   "id": "6d71acd2-c6e4-4962-a13a-6140bf7766d0",
   "metadata": {},
   "outputs": [
    {
     "data": {
      "text/plain": [
       "array([0., 0., 0., 0., 0.])"
      ]
     },
     "execution_count": 2,
     "metadata": {},
     "output_type": "execute_result"
    }
   ],
   "source": [
    "np.zeros(5)"
   ]
  },
  {
   "cell_type": "code",
   "execution_count": 7,
   "id": "d093f3cc-e510-47ec-b699-6a64f6f96959",
   "metadata": {},
   "outputs": [
    {
     "data": {
      "text/plain": [
       "array([[3, 3, 3],\n",
       "       [3, 3, 3],\n",
       "       [3, 3, 3]])"
      ]
     },
     "execution_count": 7,
     "metadata": {},
     "output_type": "execute_result"
    }
   ],
   "source": [
    "max1 = np.full((3,3), 3)\n",
    "max1"
   ]
  },
  {
   "cell_type": "code",
   "execution_count": 8,
   "id": "ff998eec-b5b2-4647-8038-f9dbb2d587a5",
   "metadata": {},
   "outputs": [
    {
     "data": {
      "text/plain": [
       "array([1., 1., 1., 1.])"
      ]
     },
     "execution_count": 8,
     "metadata": {},
     "output_type": "execute_result"
    }
   ],
   "source": [
    "np.ones(4)"
   ]
  },
  {
   "cell_type": "code",
   "execution_count": 9,
   "id": "258f6b10-dc64-410f-ae58-d9f5d7286903",
   "metadata": {},
   "outputs": [
    {
     "data": {
      "text/plain": [
       "array([1, 1, 1, 1])"
      ]
     },
     "execution_count": 9,
     "metadata": {},
     "output_type": "execute_result"
    }
   ],
   "source": [
    "np.ones(4 , dtype=int)"
   ]
  },
  {
   "cell_type": "code",
   "execution_count": 10,
   "id": "ac1c000c-92dd-42e8-95f9-197dbe460a42",
   "metadata": {},
   "outputs": [
    {
     "data": {
      "text/plain": [
       "array([ 1,  2,  5,  7, 18])"
      ]
     },
     "execution_count": 10,
     "metadata": {},
     "output_type": "execute_result"
    }
   ],
   "source": [
    "my_array = np.array([1,2,5,7,18])\n",
    "my_array"
   ]
  },
  {
   "cell_type": "code",
   "execution_count": 11,
   "id": "f76c2b1d-53dd-4a0a-ba45-35ed4728eef3",
   "metadata": {},
   "outputs": [
    {
     "data": {
      "text/plain": [
       "np.int64(1)"
      ]
     },
     "execution_count": 11,
     "metadata": {},
     "output_type": "execute_result"
    }
   ],
   "source": [
    "my_array[0]"
   ]
  },
  {
   "cell_type": "code",
   "execution_count": 12,
   "id": "0cbcba31-9a6f-498d-9ddd-94ebe18781a3",
   "metadata": {},
   "outputs": [
    {
     "data": {
      "text/plain": [
       "np.int64(7)"
      ]
     },
     "execution_count": 12,
     "metadata": {},
     "output_type": "execute_result"
    }
   ],
   "source": [
    "my_array[3]"
   ]
  },
  {
   "cell_type": "code",
   "execution_count": 13,
   "id": "4d39dda5-ef5d-46af-ad6c-fab5e56b52e3",
   "metadata": {},
   "outputs": [],
   "source": [
    "my_array[3] = 10"
   ]
  },
  {
   "cell_type": "code",
   "execution_count": 14,
   "id": "44373d14-0373-4494-98ac-3606d4b1e3db",
   "metadata": {},
   "outputs": [
    {
     "data": {
      "text/plain": [
       "array([ 1,  2,  5, 10, 18])"
      ]
     },
     "execution_count": 14,
     "metadata": {},
     "output_type": "execute_result"
    }
   ],
   "source": [
    "my_array"
   ]
  },
  {
   "cell_type": "code",
   "execution_count": 22,
   "id": "65baf4dd-4793-4f1c-a979-9a1f9a13c6b0",
   "metadata": {},
   "outputs": [
    {
     "data": {
      "text/plain": [
       "array([0., 1., 2., 3., 4.])"
      ]
     },
     "execution_count": 22,
     "metadata": {},
     "output_type": "execute_result"
    }
   ],
   "source": [
    "np.arange(5, dtype=float)"
   ]
  },
  {
   "cell_type": "code",
   "execution_count": 18,
   "id": "31c9ae94-207d-4697-95ad-c6bc2cd5f0ea",
   "metadata": {},
   "outputs": [
    {
     "data": {
      "text/plain": [
       "array([2, 4])"
      ]
     },
     "execution_count": 18,
     "metadata": {},
     "output_type": "execute_result"
    }
   ],
   "source": [
    "np.arange(2,5,2)\n",
    "# arange([start - optional], stop, [step] , dtype=int)\n",
    "# default start = 0 , default step = 1"
   ]
  },
  {
   "cell_type": "code",
   "execution_count": 19,
   "id": "2e79e2d3-2bef-4e3d-9157-4edf36853787",
   "metadata": {},
   "outputs": [
    {
     "data": {
      "text/plain": [
       "array([ 0.        ,  1.11111111,  2.22222222,  3.33333333,  4.44444444,\n",
       "        5.55555556,  6.66666667,  7.77777778,  8.88888889, 10.        ])"
      ]
     },
     "execution_count": 19,
     "metadata": {},
     "output_type": "execute_result"
    }
   ],
   "source": [
    "np.linspace(0,10,10)\n",
    "# linspace(start_value, stop_value, elements_num, endpoint=True)\n",
    "# endpoint here by default is True so he will include the stop value 10. So the equation: (start+stop/elements_num-1)"
   ]
  },
  {
   "cell_type": "code",
   "execution_count": 21,
   "id": "2427044e-57ca-4264-afc5-882eaf35fc25",
   "metadata": {},
   "outputs": [
    {
     "data": {
      "text/plain": [
       "array([0., 1., 2., 3., 4., 5., 6., 7., 8., 9.])"
      ]
     },
     "execution_count": 21,
     "metadata": {},
     "output_type": "execute_result"
    }
   ],
   "source": [
    "np.linspace(0,10,10, endpoint=False)\n",
    "# endpoint = False, So the equation: (start+stop/elements_num)"
   ]
  },
  {
   "cell_type": "markdown",
   "id": "958496c8-b90a-4e62-9744-fcd06c7abcc7",
   "metadata": {},
   "source": [
    "# Create a two-dimensional array and access elements\n"
   ]
  },
  {
   "cell_type": "code",
   "execution_count": 25,
   "id": "3bf40932-f93d-46a5-848f-bafdc8c45fec",
   "metadata": {},
   "outputs": [
    {
     "data": {
      "text/plain": [
       "array([[1., 1., 1., 1., 1.],\n",
       "       [1., 1., 1., 1., 1.]])"
      ]
     },
     "execution_count": 25,
     "metadata": {},
     "output_type": "execute_result"
    },
    {
     "name": "stdout",
     "output_type": "stream",
     "text": [
      "The history saving thread hit an unexpected error (OperationalError('attempt to write a readonly database')).History will not be written to the database.\n"
     ]
    }
   ],
   "source": [
    "np.ones((2,5))"
   ]
  },
  {
   "cell_type": "code",
   "execution_count": 28,
   "id": "05e7134b-639b-4a72-a409-0b2c4558a6af",
   "metadata": {},
   "outputs": [
    {
     "data": {
      "text/plain": [
       "array([[ 1,  2,  3,  4],\n",
       "       [ 5,  6,  7,  8],\n",
       "       [ 9, 10, 11, 12]])"
      ]
     },
     "execution_count": 28,
     "metadata": {},
     "output_type": "execute_result"
    }
   ],
   "source": [
    "max1 = np.array([\n",
    "    [1,2,3,4],\n",
    "    [5,6,7,8],\n",
    "    [9,10,11,12]])\n",
    "max1"
   ]
  },
  {
   "cell_type": "code",
   "execution_count": 29,
   "id": "7659c944-f97d-4441-8404-e99fdc4d144c",
   "metadata": {},
   "outputs": [
    {
     "data": {
      "text/plain": [
       "np.int64(7)"
      ]
     },
     "execution_count": 29,
     "metadata": {},
     "output_type": "execute_result"
    }
   ],
   "source": [
    "max1[1,2]\n",
    "# print the number in second rowwith index 1 and the third col with index 2 => 7"
   ]
  },
  {
   "cell_type": "code",
   "execution_count": 30,
   "id": "4aa1d484-e45f-4f40-8c32-81c162a1a62c",
   "metadata": {},
   "outputs": [
    {
     "data": {
      "text/plain": [
       "array([5, 6, 7, 8])"
      ]
     },
     "execution_count": 30,
     "metadata": {},
     "output_type": "execute_result"
    }
   ],
   "source": [
    "max1[1]\n",
    "# print the second row with index 1"
   ]
  },
  {
   "cell_type": "code",
   "execution_count": 33,
   "id": "3aa3ff9a-4c93-424d-a5c1-f9ddbd4eda9a",
   "metadata": {},
   "outputs": [
    {
     "data": {
      "text/plain": [
       "array([[ 1,  1,  1,  1],\n",
       "       [ 5,  6,  7,  8],\n",
       "       [ 9, 10, 11, 12]])"
      ]
     },
     "execution_count": 33,
     "metadata": {},
     "output_type": "execute_result"
    }
   ],
   "source": [
    "max1[0] = [1,1,1,1]\n",
    "max1"
   ]
  },
  {
   "cell_type": "code",
   "execution_count": 35,
   "id": "073b7833-3111-4a39-8921-3e3f00e95783",
   "metadata": {},
   "outputs": [
    {
     "data": {
      "text/plain": [
       "array([ 1,  6, 10])"
      ]
     },
     "execution_count": 35,
     "metadata": {},
     "output_type": "execute_result"
    }
   ],
   "source": [
    "max1[:,1]\n",
    "# print the second col. (we put ':' to include all rows)"
   ]
  },
  {
   "cell_type": "code",
   "execution_count": 39,
   "id": "2919a15d-91b7-4479-824c-dd24cd35d6c9",
   "metadata": {},
   "outputs": [
    {
     "data": {
      "text/plain": [
       "array([ 6, 10])"
      ]
     },
     "execution_count": 39,
     "metadata": {},
     "output_type": "execute_result"
    }
   ],
   "source": [
    "max1[1:3,1]\n"
   ]
  },
  {
   "cell_type": "code",
   "execution_count": 40,
   "id": "4ac5d62d-630b-4744-a5b9-3b3708963aaa",
   "metadata": {},
   "outputs": [
    {
     "data": {
      "text/plain": [
       "array([5, 6, 7])"
      ]
     },
     "execution_count": 40,
     "metadata": {},
     "output_type": "execute_result"
    }
   ],
   "source": [
    "max1[1, 0:3]"
   ]
  },
  {
   "cell_type": "code",
   "execution_count": 41,
   "id": "1e6b04f9-0177-4ca2-b339-fe642f5b8795",
   "metadata": {},
   "outputs": [
    {
     "data": {
      "text/plain": [
       "array([5, 6, 7, 8])"
      ]
     },
     "execution_count": 41,
     "metadata": {},
     "output_type": "execute_result"
    }
   ],
   "source": [
    "max1[1, 0:6]"
   ]
  },
  {
   "cell_type": "markdown",
   "id": "2ff6b57d-b1ac-44ca-a2a2-3cbc18ccb136",
   "metadata": {},
   "source": [
    "# Random Arrays"
   ]
  },
  {
   "cell_type": "code",
   "execution_count": null,
   "id": "43fec1b7",
   "metadata": {},
   "outputs": [],
   "source": []
  }
 ],
 "metadata": {
  "kernelspec": {
   "display_name": "Python 3 (ipykernel)",
   "language": "python",
   "name": "python3"
  },
  "language_info": {
   "codemirror_mode": {
    "name": "ipython",
    "version": 3
   },
   "file_extension": ".py",
   "mimetype": "text/x-python",
   "name": "python",
   "nbconvert_exporter": "python",
   "pygments_lexer": "ipython3",
   "version": "3.12.1"
  }
 },
 "nbformat": 4,
 "nbformat_minor": 5
}
