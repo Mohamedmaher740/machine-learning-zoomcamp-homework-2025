{
 "cells": [
  {
   "cell_type": "markdown",
   "id": "7f81a6c9-0020-4ac1-8f32-24aedddad387",
   "metadata": {},
   "source": [
    "# Creating arrays with Numby"
   ]
  },
  {
   "cell_type": "code",
   "execution_count": 2,
   "id": "8fb7e937-5922-4eb1-ade2-adb8718dbb2a",
   "metadata": {},
   "outputs": [],
   "source": [
    "import numpy as np"
   ]
  },
  {
   "cell_type": "code",
   "execution_count": 3,
   "id": "0b31ef52-3875-48b8-a6ca-670df4ca2c68",
   "metadata": {},
   "outputs": [
    {
     "data": {
      "text/plain": [
       "array([0., 0., 0.])"
      ]
     },
     "execution_count": 3,
     "metadata": {},
     "output_type": "execute_result"
    }
   ],
   "source": [
    "np.zeros(3)\n",
    "# np.ones()\n",
    "# np.array([])\n",
    "# np.full(dim, number) == np.ones(dim)*num"
   ]
  },
  {
   "cell_type": "markdown",
   "id": "252a4362-910f-4ec7-8771-72097dc86bf7",
   "metadata": {},
   "source": [
    "## Indexing and Slicing"
   ]
  },
  {
   "cell_type": "code",
   "execution_count": 39,
   "id": "3c9c3044-d157-43a7-a125-31c0cf17cbd7",
   "metadata": {},
   "outputs": [
    {
     "data": {
      "text/plain": [
       "array([1, 2, 3, 4, 5])"
      ]
     },
     "execution_count": 39,
     "metadata": {},
     "output_type": "execute_result"
    }
   ],
   "source": [
    "my_list = [1,2,3,4,5]\n",
    "my_array = np.array(my_list)\n",
    "my_array"
   ]
  },
  {
   "cell_type": "code",
   "execution_count": 42,
   "id": "e5b4aa72-3d9f-420b-98e7-6a6684c2b56e",
   "metadata": {},
   "outputs": [
    {
     "name": "stdout",
     "output_type": "stream",
     "text": [
      "4\n",
      "5\n"
     ]
    },
    {
     "data": {
      "text/plain": [
       "array([1, 2, 3, 4])"
      ]
     },
     "execution_count": 42,
     "metadata": {},
     "output_type": "execute_result"
    }
   ],
   "source": [
    "my_list = [1,2,3,4,5]\n",
    "my_array = np.array(my_list)\n",
    "# converting list to array\n",
    "last_element = my_array[-1]\n",
    "print(my_array[-2])\n",
    "print(last_element)\n",
    "sub_array = my_array[0:4]\n",
    "sub_array"
   ]
  },
  {
   "cell_type": "code",
   "execution_count": 15,
   "id": "e98a53bc-29c0-44cd-842f-6ea4729978d4",
   "metadata": {},
   "outputs": [
    {
     "name": "stdout",
     "output_type": "stream",
     "text": [
      "The sum of first and last element in my array = 6\n",
      "The sum of first and last element in my array = 15\n"
     ]
    }
   ],
   "source": [
    "my_array1 = np.array([1,2,3,4,5])\n",
    "first_element = my_array1[0]\n",
    "last_element = my_array1[-1]\n",
    "sum_first_last = first_element + last_element\n",
    "print(f\"The sum of first and last element in my array = {sum_first_last}\")\n",
    "my_array1\n",
    "my_array[0] = 10\n",
    "new_first_element = my_array[0]\n",
    "sm = new_first_element + last_element\n",
    "print(f\"The sum of first and last element in my array = {sm}\")"
   ]
  },
  {
   "cell_type": "markdown",
   "id": "3b5dfe82-3245-455e-b3ac-00e5563051b5",
   "metadata": {
    "jp-MarkdownHeadingCollapsed": true
   },
   "source": [
    "## Arrays built-in functions"
   ]
  },
  {
   "cell_type": "code",
   "execution_count": 21,
   "id": "a34a8ac1-5e02-4797-b8e1-9f8aae02c106",
   "metadata": {},
   "outputs": [
    {
     "data": {
      "text/plain": [
       "array([0, 1, 2, 3, 4])"
      ]
     },
     "execution_count": 21,
     "metadata": {},
     "output_type": "execute_result"
    }
   ],
   "source": [
    "np.arange(5)\n",
    "# result : array([0,1,2,3,4])\n",
    "# How does this result? => loop with 5 iterations starting from 0 with step 1"
   ]
  },
  {
   "cell_type": "code",
   "execution_count": 22,
   "id": "3b275a07-b707-4b98-abfb-0001ec13abde",
   "metadata": {},
   "outputs": [
    {
     "data": {
      "text/plain": [
       "array([2, 5, 8])"
      ]
     },
     "execution_count": 22,
     "metadata": {},
     "output_type": "execute_result"
    }
   ],
   "source": [
    "np.arange(2,10,3)\n",
    "# result : array([2,5,8])\n",
    "# process : loop with limit condition iterations (next < 10) start from 2 with step 3"
   ]
  },
  {
   "cell_type": "code",
   "execution_count": 23,
   "id": "8b005dd3-7586-455f-9ab0-4a6487b9d7c5",
   "metadata": {},
   "outputs": [
    {
     "data": {
      "text/plain": [
       "array([ 0.,  1.,  2.,  3.,  4.,  5.,  6.,  7.,  8.,  9., 10.])"
      ]
     },
     "execution_count": 23,
     "metadata": {},
     "output_type": "execute_result"
    }
   ],
   "source": [
    "np.linspace(0,10,11)\n",
    "# result : array([0. ,1. ,2. ,3. ,4. ,5. ,6. ,7. ,8. ,9. ,10.]) -- including the stop value 10\n",
    "# process : loop with condition (next <= 10) start from 0 -- next = start + (start+stop/n_elements-1)\n"
   ]
  },
  {
   "cell_type": "markdown",
   "id": "8c9eba85-c77d-49a5-98e7-049573e30036",
   "metadata": {
    "jp-MarkdownHeadingCollapsed": true
   },
   "source": [
    "## Two-Dimensional Arrays"
   ]
  },
  {
   "cell_type": "code",
   "execution_count": null,
   "id": "67f97b2c-bcd6-45a4-b798-5df47b4681db",
   "metadata": {},
   "outputs": [],
   "source": []
  },
  {
   "cell_type": "code",
   "execution_count": 24,
   "id": "c54ba59f-06ed-4b9e-b2fd-8eca4db27385",
   "metadata": {},
   "outputs": [
    {
     "data": {
      "text/plain": [
       "array([[1., 1., 1., 1.],\n",
       "       [1., 1., 1., 1.],\n",
       "       [1., 1., 1., 1.]])"
      ]
     },
     "execution_count": 24,
     "metadata": {},
     "output_type": "execute_result"
    }
   ],
   "source": [
    "np.ones((3,4))"
   ]
  },
  {
   "cell_type": "code",
   "execution_count": 25,
   "id": "100fada1-dd10-42a6-b8e5-6402b8863da5",
   "metadata": {},
   "outputs": [
    {
     "data": {
      "text/plain": [
       "array([[ 1,  2,  3,  4],\n",
       "       [ 5,  6,  7,  8],\n",
       "       [ 9, 10, 11, 12]])"
      ]
     },
     "execution_count": 25,
     "metadata": {},
     "output_type": "execute_result"
    }
   ],
   "source": [
    "np.array([[1,2,3,4], [5,6,7,8], [9,10,11,12]])"
   ]
  },
  {
   "cell_type": "markdown",
   "id": "38d62ca1-5cba-4c44-bf39-d811292c6b45",
   "metadata": {},
   "source": [
    "### Accessing and Assignment for 2-Dim"
   ]
  },
  {
   "cell_type": "code",
   "execution_count": 32,
   "id": "1a333c78-7d26-4570-adc6-448e4165fc42",
   "metadata": {},
   "outputs": [
    {
     "name": "stdout",
     "output_type": "stream",
     "text": [
      "[5 6 7 8]\n",
      "[ 2  6 10]\n",
      "12\n",
      "[[ 1  2]\n",
      " [ 5  6]\n",
      " [ 9 10]]\n",
      "[[1 2 3]\n",
      " [5 6 7]]\n"
     ]
    }
   ],
   "source": [
    "matrix1 = np.array([[1,2,3,4], [5,6,7,8], [9,10,11,12]])\n",
    "\n",
    "row_access = matrix1[1]\n",
    "print(row_access)\n",
    "# result : array([5,6,7,8])\n",
    "\n",
    "col_access = matrix1[:,1]\n",
    "print(col_access)\n",
    "# result : array([2,6,10])\n",
    "\n",
    "ele_access = matrix1[2,3]\n",
    "print(ele_access)\n",
    "\n",
    "mul_col_access = matrix1[:,[0,1]]\n",
    "print(mul_col_access)\n",
    "# print all first and second columns\n",
    "\n",
    "n1 = matrix1[[0,1], 0:3]\n",
    "print(n1)\n",
    "# print first 2 rows with only 3 columns"
   ]
  },
  {
   "cell_type": "code",
   "execution_count": 37,
   "id": "c90a028f-1339-4189-af94-1aa97ba9298e",
   "metadata": {},
   "outputs": [
    {
     "data": {
      "text/plain": [
       "array([[ 5,  6,  7,  8],\n",
       "       [ 5,  6,  7,  8],\n",
       "       [ 9, 10, 11,  1]])"
      ]
     },
     "execution_count": 37,
     "metadata": {},
     "output_type": "execute_result"
    }
   ],
   "source": [
    "matrix1 = np.array([[1,2,3,4], [5,6,7,8], [9,10,11,12]])\n",
    "matrix1[0] = [5,6,7,8]\n",
    "matrix1[2,3] = 1\n",
    "matrix1"
   ]
  },
  {
   "cell_type": "markdown",
   "id": "291184bf-49cf-497b-8efa-ba65cbbb6806",
   "metadata": {},
   "source": [
    "## Generate random arrays"
   ]
  },
  {
   "cell_type": "code",
   "execution_count": null,
   "id": "dc201336-42d9-46ec-92b2-74e921977a47",
   "metadata": {},
   "outputs": [
    {
     "data": {
      "text/plain": [
       "array([[0.87736859, 0.24678836],\n",
       "       [0.11891739, 0.92811214],\n",
       "       [0.39629746, 0.05674409],\n",
       "       [0.1445427 , 0.93978246],\n",
       "       [0.58538951, 0.30949097]])"
      ]
     },
     "execution_count": 4,
     "metadata": {},
     "output_type": "execute_result"
    }
   ],
   "source": [
    "# np.random.rand(size)\n",
    "np.random.rand(5,2)\n",
    "# here we didn't identify sees so he will generate new seed every time we run from timestamp"
   ]
  },
  {
   "cell_type": "code",
   "execution_count": 14,
   "id": "b2fc683f",
   "metadata": {},
   "outputs": [
    {
     "name": "stdout",
     "output_type": "stream",
     "text": [
      "[[0.4359949  0.02592623]\n",
      " [0.54966248 0.43532239]\n",
      " [0.4203678  0.33033482]\n",
      " [0.20464863 0.61927097]\n",
      " [0.29965467 0.26682728]]\n",
      "[2.48453533 2.11656838 0.53831978 2.05431249]\n"
     ]
    }
   ],
   "source": [
    "np.random.seed(2)\n",
    "# here we determine seed number (inital number)\n",
    "default_rand_range = np.random.rand(5, 2)\n",
    "# the result will be same with every run\n",
    "# rand function return values from 0:1 only\n",
    "modified_random_range = np.random.rand(4)*4\n",
    "# here will return pesudo random numbers from 0:4\n",
    "print(default_rand_range)\n",
    "print(modified_random_range)"
   ]
  },
  {
   "cell_type": "code",
   "execution_count": 15,
   "id": "739b420b",
   "metadata": {},
   "outputs": [
    {
     "name": "stdout",
     "output_type": "stream",
     "text": [
      "1758848721.843261\n",
      "Fri Sep 26 01:05:21 2025\n"
     ]
    }
   ],
   "source": [
    "import time\n",
    "now = time.time() \n",
    "# reteurn time with sec from Epoch time : 1/1/1970 - 00:00:00\n",
    "readable = time.ctime(now)\n",
    "print(now)\n",
    "print(readable)"
   ]
  },
  {
   "cell_type": "code",
   "execution_count": null,
   "id": "f7796818",
   "metadata": {},
   "outputs": [
    {
     "name": "stdout",
     "output_type": "stream",
     "text": [
      "[-0.41675785 -0.05626683 -2.1361961   1.64027081 -1.79343559 -0.84174737\n",
      "  0.50288142 -1.24528809 -1.05795222 -0.90900761]\n",
      "4\n",
      "6\n",
      "[8 4 7 5 4]\n",
      "[[8 7 2]\n",
      " [4 6 9]]\n"
     ]
    }
   ],
   "source": [
    "np.random.seed(2)\n",
    "print(np.random.randn(10))            # 10 ارقام عشوائية من ال Normall distribution\n",
    "# np.random.randint(low=?, high=?, size=None)\n",
    "print(np.random.randint(10))          # رقم واحد من 0 لحد 9\n",
    "print(np.random.randint(1, 10))       # رقم واحد من 1 لحد 9\n",
    "print(np.random.randint(1, 10, 5))    # Array 1D فيه 5 عناصر\n",
    "print(np.random.randint(1, 10, (2, 3))) # Array 2x3"
   ]
  },
  {
   "cell_type": "markdown",
   "id": "cf933796",
   "metadata": {},
   "source": [
    "## Element-Wise operations"
   ]
  },
  {
   "cell_type": "markdown",
   "id": "155e023d",
   "metadata": {},
   "source": [
    "### Arthematic Operations"
   ]
  },
  {
   "cell_type": "code",
   "execution_count": 24,
   "id": "58608c30",
   "metadata": {},
   "outputs": [
    {
     "name": "stdout",
     "output_type": "stream",
     "text": [
      "[[0 1 2 3 4]\n",
      " [5 6 7 8 9]]\n",
      "[[ 1  3  5  7  9]\n",
      " [11 13 15 17 19]]\n",
      "[[ 0  1  4  9 16]\n",
      " [25 36 49 64 81]]\n"
     ]
    }
   ],
   "source": [
    "my_array = np.arange(10).reshape(2,5)\n",
    "print(my_array)\n",
    "equ1 = (my_array * 2) + 1\n",
    "print(equ1)\n",
    "equ2 = my_array **2\n",
    "print(equ2)"
   ]
  },
  {
   "cell_type": "code",
   "execution_count": 10,
   "id": "712e0527",
   "metadata": {},
   "outputs": [
    {
     "name": "stdout",
     "output_type": "stream",
     "text": [
      "[[10 12 14 16]\n",
      " [18 20 22 24]]\n",
      "[[  9  20  33  48]\n",
      " [ 65  84 105 128]]\n"
     ]
    }
   ],
   "source": [
    "arr1 = np.array([[1,2,3,4], [5,6,7,8]])\n",
    "arr2 = np.array([[9,10,11,12], [13,14,15,16]])\n",
    "sum_arrs = arr1 + arr2\n",
    "print(sum_arrs)\n",
    "mul_arrs = arr1*arr2\n",
    "print(mul_arrs)"
   ]
  },
  {
   "cell_type": "markdown",
   "id": "056ea60a",
   "metadata": {},
   "source": [
    "### Comparison Operations"
   ]
  },
  {
   "cell_type": "code",
   "execution_count": null,
   "id": "9970bc5c",
   "metadata": {},
   "outputs": [
    {
     "name": "stdout",
     "output_type": "stream",
     "text": [
      "[[False  True  True  True]\n",
      " [ True  True  True  True]]\n",
      "[[False False False False]\n",
      " [False False False False]]\n"
     ]
    },
    {
     "data": {
      "text/plain": [
       "array([3, 4, 5, 6, 7, 8])"
      ]
     },
     "execution_count": 13,
     "metadata": {},
     "output_type": "execute_result"
    }
   ],
   "source": [
    "arr1 = np.array([[1,2,3,4], [5,6,7,8]])\n",
    "arr2 = np.array([[9,10,11,12], [13,14,15,16]])\n",
    "print(arr1 >= 2)\n",
    "print(arr1>arr2)\n",
    "arr1[arr1>2]\n",
    "# this line returns all elements in this array that achieve this condition (sub_array)"
   ]
  },
  {
   "cell_type": "markdown",
   "id": "4db9ce9f",
   "metadata": {},
   "source": [
    "### Summarizing Operations"
   ]
  },
  {
   "cell_type": "code",
   "execution_count": null,
   "id": "215f805c",
   "metadata": {},
   "outputs": [
    {
     "name": "stdout",
     "output_type": "stream",
     "text": [
      "8\n",
      "1\n",
      "36\n",
      "4.5\n",
      "2.29128784747792\n"
     ]
    }
   ],
   "source": [
    "arr1 = np.array([[1,2,3,4], [5,6,7,8]])\n",
    "print(arr1.max())\n",
    "print(arr1.min())\n",
    "print(arr1.sum())\n",
    "print(arr1.mean())\n",
    "print(arr1.std())\n",
    "# all works with 1-Dim and 2-dim"
   ]
  },
  {
   "cell_type": "markdown",
   "id": "1865e040",
   "metadata": {},
   "source": [
    "## Linear Algebra Operations"
   ]
  },
  {
   "cell_type": "markdown",
   "id": "8e0974a7",
   "metadata": {},
   "source": [
    "### vector-vector Multiplication"
   ]
  },
  {
   "cell_type": "code",
   "execution_count": 24,
   "id": "1dd7f097",
   "metadata": {},
   "outputs": [
    {
     "name": "stdout",
     "output_type": "stream",
     "text": [
      "14\n",
      "14\n"
     ]
    }
   ],
   "source": [
    "# dot product\n",
    "\n",
    "def vv_mul(u,v):\n",
    "    assert u.shape[0] == v.shape[0]\n",
    "    # u.shape => tuple = (x,y) -- x means number of rows and y means number of coulmns\n",
    "    arr1 = u*v\n",
    "    result = 0\n",
    "    for i in arr1:\n",
    "        result = result + i\n",
    "\n",
    "    return result\n",
    "\n",
    "import numpy as np\n",
    "u = np.array([2,4,5,6])\n",
    "v = np.array([1,0,0,2])\n",
    "# direct method\n",
    "result1 = u.dot(v)\n",
    "print(result1)\n",
    "\n",
    "# own-function method\n",
    "result2 = vv_mul(u,v)\n",
    "print(result2)"
   ]
  },
  {
   "cell_type": "code",
   "execution_count": 10,
   "id": "2e96fcf2",
   "metadata": {},
   "outputs": [
    {
     "data": {
      "text/plain": [
       "4"
      ]
     },
     "execution_count": 10,
     "metadata": {},
     "output_type": "execute_result"
    }
   ],
   "source": [
    "u = np.array([[2,4,5,6],[1,2,3,4]])\n",
    "v = np.array([1,2,3,4])\n",
    "v.shape[0]"
   ]
  },
  {
   "cell_type": "code",
   "execution_count": null,
   "id": "8551a63e",
   "metadata": {},
   "outputs": [
    {
     "name": "stdout",
     "output_type": "stream",
     "text": [
      "[ 3  6  8 10]\n"
     ]
    }
   ],
   "source": [
    "u = np.array([2,4,5,6])\n",
    "v = np.array([1,2,3,4])\n",
    "assert u.shape[0] == v.shape[0]\n",
    "# assert function here checked the condition: if true (will continue) if not will excute an assertation error\n",
    "print(u+v)"
   ]
  },
  {
   "cell_type": "markdown",
   "id": "289dc1a4",
   "metadata": {},
   "source": [
    "### Matrix-vector Multiplication"
   ]
  },
  {
   "cell_type": "code",
   "execution_count": 2,
   "id": "c866d4dd",
   "metadata": {},
   "outputs": [
    {
     "data": {
      "text/plain": [
       "array([20. ,  6. ,  8.5])"
      ]
     },
     "execution_count": 2,
     "metadata": {},
     "output_type": "execute_result"
    }
   ],
   "source": [
    "def mv_mul(u,v):\n",
    "    assert u.shape[1] == v.shape[0]\n",
    "    result_arr = np.empty(u.shape[0])\n",
    "    for i in range(u.shape[0]):\n",
    "        result_arr[i] = u[i].dot(v)\n",
    "\n",
    "    return result_arr\n",
    "\n",
    "import numpy as np\n",
    "u = np.array([[2, 4, 5, 6], [1, 2, 1, 2], [3, 1, 2, 1]])\n",
    "v = np.array([1,0.5,2,1])\n",
    "result = mv_mul(u,v)\n",
    "result\n"
   ]
  },
  {
   "cell_type": "code",
   "execution_count": null,
   "id": "4aa2db56",
   "metadata": {},
   "outputs": [],
   "source": []
  }
 ],
 "metadata": {
  "kernelspec": {
   "display_name": "Python 3",
   "language": "python",
   "name": "python3"
  },
  "language_info": {
   "codemirror_mode": {
    "name": "ipython",
    "version": 3
   },
   "file_extension": ".py",
   "mimetype": "text/x-python",
   "name": "python",
   "nbconvert_exporter": "python",
   "pygments_lexer": "ipython3",
   "version": "3.12.1"
  }
 },
 "nbformat": 4,
 "nbformat_minor": 5
}
